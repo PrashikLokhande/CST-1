{
  "nbformat": 4,
  "nbformat_minor": 0,
  "metadata": {
    "colab": {
      "provenance": [],
      "authorship_tag": "ABX9TyOWLPhF/7ZKQSjqnzvbXuw1",
      "include_colab_link": true
    },
    "kernelspec": {
      "name": "python3",
      "display_name": "Python 3"
    },
    "language_info": {
      "name": "python"
    }
  },
  "cells": [
    {
      "cell_type": "markdown",
      "metadata": {
        "id": "view-in-github",
        "colab_type": "text"
      },
      "source": [
        "<a href=\"https://colab.research.google.com/github/PrashikLokhande/CST-1/blob/main/Untitled2.ipynb\" target=\"_parent\"><img src=\"https://colab.research.google.com/assets/colab-badge.svg\" alt=\"Open In Colab\"/></a>"
      ]
    },
    {
      "cell_type": "code",
      "execution_count": null,
      "metadata": {
        "colab": {
          "base_uri": "https://localhost:8080/"
        },
        "id": "14fRHX6DN0MZ",
        "outputId": "d321a7ac-d17d-4018-a322-4ab5c00a5aa1"
      },
      "outputs": [
        {
          "output_type": "stream",
          "name": "stdout",
          "text": [
            "dbca\n",
            "52341\n"
          ]
        }
      ],
      "source": [
        "# Define a function named change_string that takes one argument, 'str1'.\n",
        "def change_string(str1):\n",
        "    # Return a modified version of the input string 'str1' by rearranging its characters.\n",
        "    # It takes the last character and moves it to the front, while keeping the middle characters unchanged.\n",
        "    return str1[-1:] + str1[1:-1] + str1[:1]\n",
        "\n",
        "# Call the change_string function with different input strings and print the results.\n",
        "print(change_string('abcd'))   # Output: 'dbca'\n",
        "print(change_string('12345'))  # Output: '52341'\n"
      ]
    },
    {
      "cell_type": "markdown",
      "source": [
        "write a py program to get a newly generatd string were \"Is\" has been added to the front written the string unchanged is the given string alrady written with \"Is\""
      ],
      "metadata": {
        "id": "hI4upyuAPF9y"
      }
    },
    {
      "cell_type": "markdown",
      "source": [
        "write a oy program to count 4 in a given sewuence"
      ],
      "metadata": {
        "id": "AMXn6tmUP3dI"
      }
    },
    {
      "cell_type": "code",
      "source": [
        "def myfun(num):\n",
        "    count = 0\n",
        "    for x in num:\n",
        "        if x == 4:\n",
        "          count = count + 1\n",
        "    return count\n",
        "\n",
        "if __name__==\"__main__\":\n",
        "    print(myfun([1, 4, 6, 7, 4]))\n",
        "    print(myfun([1, 4, 6, 4, 7, 4]))\n"
      ],
      "metadata": {
        "colab": {
          "base_uri": "https://localhost:8080/"
        },
        "id": "OtObncKNP_Z9",
        "outputId": "e3fe0404-cc68-489d-9741-6660eeba26cb"
      },
      "execution_count": null,
      "outputs": [
        {
          "output_type": "stream",
          "name": "stdout",
          "text": [
            "2\n",
            "3\n"
          ]
        }
      ]
    },
    {
      "cell_type": "markdown",
      "source": [
        "def check_vowel(a)\n",
        "vowel=['A','E','I','O','U','a','e','i','o\n",
        ",\n",
        "u',]\n",
        "if a in vowel:\n",
        "return true\n",
        "else:\n",
        "return false"
      ],
      "metadata": {
        "id": "onZUz6tER33a"
      }
    },
    {
      "cell_type": "code",
      "source": [
        "def checkvowel (a):\n",
        "  vowel=['A','E','I','O','U','a','e','i','o','u']\n",
        "  if a in vowel:\n",
        "    return True\n",
        "  else:\n",
        "    return False"
      ],
      "metadata": {
        "id": "8Qf7UY9hTkzm"
      },
      "execution_count": null,
      "outputs": []
    },
    {
      "cell_type": "code",
      "source": [
        "# Python program to find GCD of two numbers\n",
        "\n",
        "\n",
        "# Function to find gcd of two numbers\n",
        "def gcd(a, b):\n",
        "\n",
        "    # Find minimum of a and b\n",
        "    result = max(a, b)\n",
        "\n",
        "    while result:\n",
        "        if a % result == 0 and b % result == 0:\n",
        "            break\n",
        "        result -= 1\n",
        "\n",
        "    # Return the gcd of a and b\n",
        "    return result\n",
        "\n",
        "\n",
        "# Driver Code\n",
        "if __name__ == '__main__':\n",
        "    a = 8\n",
        "    b = 24\n",
        "    print(f\"GCD of {a} and {b} is {gcd(a, b)}\")"
      ],
      "metadata": {
        "colab": {
          "base_uri": "https://localhost:8080/"
        },
        "id": "bpjetHQhWqx8",
        "outputId": "3e916689-6d93-4880-e429-76d4d4daa839"
      },
      "execution_count": null,
      "outputs": [
        {
          "output_type": "stream",
          "name": "stdout",
          "text": [
            "GCD of 8 and 24 is 8\n"
          ]
        }
      ]
    },
    {
      "cell_type": "markdown",
      "source": [
        "for minimum divisible no."
      ],
      "metadata": {
        "id": "_UqCvGgoZl8A"
      }
    },
    {
      "cell_type": "code",
      "source": [
        "# Python program to find GCD of two numbers\n",
        "\n",
        "\n",
        "# Function to find gcd of two numbers\n",
        "def gcd(a, b):\n",
        "\n",
        "    # Find minimum of a and b\n",
        "    result = min(a, b)\n",
        "\n",
        "    while result:\n",
        "        if a % result == 0 and b % result == 0:\n",
        "            break\n",
        "        result -= 1\n",
        "\n",
        "    # Return the gcd of a and b\n",
        "    return result\n",
        "\n",
        "\n",
        "# Driver Code\n",
        "if __name__ == '__main__':\n",
        "    a = 8\n",
        "    b = 24\n",
        "    print(f\"GCD of {a} and {b} is {gcd(a, b)}\")"
      ],
      "metadata": {
        "colab": {
          "base_uri": "https://localhost:8080/"
        },
        "id": "U8FLr_h4Z0HS",
        "outputId": "d200bbfb-b9d7-44fc-d098-09e611c70f31"
      },
      "execution_count": null,
      "outputs": [
        {
          "output_type": "stream",
          "name": "stdout",
          "text": [
            "GCD of 8 and 24 is 8\n"
          ]
        }
      ]
    },
    {
      "cell_type": "code",
      "source": [
        "def GCD (x,y):\n",
        "  gcd = 1\n",
        "  if y%x==0:\n",
        "    gcd=x\n",
        "    return gcd\n",
        "    for i in range (x/2,-1,-1):\n",
        "      if x%i==0 and y%i==0:\n",
        "        gcd=i\n",
        "\n",
        "    return gcd"
      ],
      "metadata": {
        "id": "bClvmx4YaEnp"
      },
      "execution_count": null,
      "outputs": []
    },
    {
      "cell_type": "code",
      "source": [
        "# List to store the numbers that are divisible by 7 but not a multiple of 5\n",
        "result = []\n",
        "\n",
        "# Loop through the range from 2000 to 3200 (inclusive)\n",
        "for num in range(2000, 3200):\n",
        "    if num % 7 == 0 and num % 5 != 0:\n",
        "        result.append(str(num))\n",
        "\n",
        "# Join the numbers in the result list with commas and print them in one line\n",
        "print(\", \".join(result))"
      ],
      "metadata": {
        "colab": {
          "base_uri": "https://localhost:8080/"
        },
        "id": "mornuToLc6h1",
        "outputId": "1b94ec5e-ddf6-4e2b-98ee-eed0061c7051"
      },
      "execution_count": null,
      "outputs": [
        {
          "output_type": "stream",
          "name": "stdout",
          "text": [
            "2002, 2009, 2016, 2023, 2037, 2044, 2051, 2058, 2072, 2079, 2086, 2093, 2107, 2114, 2121, 2128, 2142, 2149, 2156, 2163, 2177, 2184, 2191, 2198, 2212, 2219, 2226, 2233, 2247, 2254, 2261, 2268, 2282, 2289, 2296, 2303, 2317, 2324, 2331, 2338, 2352, 2359, 2366, 2373, 2387, 2394, 2401, 2408, 2422, 2429, 2436, 2443, 2457, 2464, 2471, 2478, 2492, 2499, 2506, 2513, 2527, 2534, 2541, 2548, 2562, 2569, 2576, 2583, 2597, 2604, 2611, 2618, 2632, 2639, 2646, 2653, 2667, 2674, 2681, 2688, 2702, 2709, 2716, 2723, 2737, 2744, 2751, 2758, 2772, 2779, 2786, 2793, 2807, 2814, 2821, 2828, 2842, 2849, 2856, 2863, 2877, 2884, 2891, 2898, 2912, 2919, 2926, 2933, 2947, 2954, 2961, 2968, 2982, 2989, 2996, 3003, 3017, 3024, 3031, 3038, 3052, 3059, 3066, 3073, 3087, 3094, 3101, 3108, 3122, 3129, 3136, 3143, 3157, 3164, 3171, 3178, 3192, 3199\n"
          ]
        }
      ]
    },
    {
      "cell_type": "markdown",
      "source": [
        "write a pythone program to impliment the fsctoriyal of a given number"
      ],
      "metadata": {
        "id": "_d-JYvC9eoBv"
      }
    },
    {
      "cell_type": "code",
      "source": [
        "# Python program to find the factorial of a number provided by the user.\n",
        "\n",
        "# change the value for a different result\n",
        "num = 5\n",
        "\n",
        "# To take input from the user\n",
        "#num = int(input(\"Enter a number: \"))\n",
        "\n",
        "factorial = 1\n",
        "\n",
        "# check if the number is negative, positive or zero\n",
        "if num < 0:\n",
        "   print(\"Sorry, factorial does not exist for negative numbers\")\n",
        "elif num == 0:\n",
        "   print(\"The factorial of 0 is 1\")\n",
        "else:\n",
        "   for i in range(1,num + 1):\n",
        "       factorial = factorial*i\n",
        "   print(\"The factorial of\",num,\"is\",factorial)\n"
      ],
      "metadata": {
        "colab": {
          "base_uri": "https://localhost:8080/"
        },
        "id": "4bG5Pi9Qeq5S",
        "outputId": "eeb6bbe4-91e3-4c35-ce43-43135ed9d492"
      },
      "execution_count": null,
      "outputs": [
        {
          "output_type": "stream",
          "name": "stdout",
          "text": [
            "The factorial of 5 is 120\n"
          ]
        }
      ]
    }
  ]
}